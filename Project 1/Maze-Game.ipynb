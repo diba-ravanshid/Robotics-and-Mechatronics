{
 "cells": [
  {
   "cell_type": "markdown",
   "metadata": {},
   "source": [
    "Libraries"
   ]
  },
  {
   "cell_type": "code",
   "execution_count": 1,
   "metadata": {},
   "outputs": [
    {
     "name": "stdout",
     "output_type": "stream",
     "text": [
      "pygame 2.5.2 (SDL 2.28.3, Python 3.11.4)\n",
      "Hello from the pygame community. https://www.pygame.org/contribute.html\n"
     ]
    },
    {
     "data": {
      "text/html": [
       "<div id=\"glowscript\" class=\"glowscript\"></div>"
      ],
      "text/plain": [
       "<IPython.core.display.HTML object>"
      ]
     },
     "metadata": {},
     "output_type": "display_data"
    },
    {
     "data": {
      "application/javascript": [
       "if (typeof Jupyter !== \"undefined\") { window.__context = { glowscript_container: $(\"#glowscript\").removeAttr(\"id\")};}else{ element.textContent = ' ';}"
      ],
      "text/plain": [
       "<IPython.core.display.Javascript object>"
      ]
     },
     "metadata": {},
     "output_type": "display_data"
    }
   ],
   "source": [
    "import pygame\n",
    "import sys\n",
    "import random\n",
    "import time\n",
    "import serial\n",
    "import numpy as np\n",
    "from numpy import sin, cos\n",
    "from vpython import *\n",
    "import random"
   ]
  },
  {
   "cell_type": "code",
   "execution_count": null,
   "metadata": {},
   "outputs": [],
   "source": []
  },
  {
   "cell_type": "markdown",
   "metadata": {},
   "source": [
    "Initialize Pygame"
   ]
  },
  {
   "cell_type": "code",
   "execution_count": 2,
   "metadata": {},
   "outputs": [
    {
     "data": {
      "text/plain": [
       "(5, 0)"
      ]
     },
     "execution_count": 2,
     "metadata": {},
     "output_type": "execute_result"
    }
   ],
   "source": [
    "pygame.init()"
   ]
  },
  {
   "cell_type": "markdown",
   "metadata": {},
   "source": [
    "Constants"
   ]
  },
  {
   "cell_type": "code",
   "execution_count": 3,
   "metadata": {},
   "outputs": [],
   "source": [
    "WIDTH, HEIGHT = 600, 600\n",
    "CELL_SIZE = 30\n",
    "ROWS, COLS = HEIGHT // CELL_SIZE, WIDTH // CELL_SIZE\n",
    "FPS = 300  # Adjust the FPS for slower movement"
   ]
  },
  {
   "cell_type": "markdown",
   "metadata": {},
   "source": [
    "Colors"
   ]
  },
  {
   "cell_type": "code",
   "execution_count": 4,
   "metadata": {},
   "outputs": [],
   "source": [
    "WHITE = (255, 255, 255)\n",
    "GRAY = (181, 176, 173)\n",
    "DARK_BLUE = (3, 102, 150)\n",
    "MEDIUM_BLUE = (7, 87, 91)\n",
    "LIGHT_BLUE = (173, 216, 230)\n",
    "RED = (255, 0, 0)"
   ]
  },
  {
   "cell_type": "markdown",
   "metadata": {},
   "source": [
    "Initialize clock"
   ]
  },
  {
   "cell_type": "code",
   "execution_count": 5,
   "metadata": {},
   "outputs": [],
   "source": [
    "clock = pygame.time.Clock()"
   ]
  },
  {
   "cell_type": "markdown",
   "metadata": {},
   "source": [
    "Initialize serial communication with Arduino"
   ]
  },
  {
   "cell_type": "code",
   "execution_count": 6,
   "metadata": {},
   "outputs": [],
   "source": [
    "arduinoData = serial.Serial('com9', 115200)\n",
    "time.sleep(1)"
   ]
  },
  {
   "cell_type": "markdown",
   "metadata": {},
   "source": [
    "Maze generation - DO NOT CHANGE THIS FUNCTION!"
   ]
  },
  {
   "cell_type": "code",
   "execution_count": 7,
   "metadata": {},
   "outputs": [],
   "source": [
    "def generate_maze():\n",
    "    maze = [[0] * COLS for _ in range(ROWS)]\n",
    "    stack = []\n",
    "    start_cell = (1, 1)\n",
    "    end_cell = (ROWS - 3, COLS - 3)\n",
    "    stack.append(start_cell)\n",
    "    maze[start_cell[0]][start_cell[1]] = 1\n",
    "\n",
    "    while stack:\n",
    "        current_cell = stack[-1]\n",
    "        neighbors = [\n",
    "            (current_cell[0] - 2, current_cell[1]),\n",
    "            (current_cell[0] + 2, current_cell[1]),\n",
    "            (current_cell[0], current_cell[1] - 2),\n",
    "            (current_cell[0], current_cell[1] + 2),\n",
    "        ]\n",
    "        unvisited_neighbors = [neighbor for neighbor in neighbors if 0 < neighbor[0] < ROWS - 1 and 0 < neighbor[1] < COLS - 1 and maze[neighbor[0]][neighbor[1]] == 0]\n",
    "\n",
    "        if unvisited_neighbors:\n",
    "            chosen_neighbor = random.choice(unvisited_neighbors)\n",
    "            maze[chosen_neighbor[0]][chosen_neighbor[1]] = 1\n",
    "            maze[(chosen_neighbor[0] + current_cell[0]) // 2][(chosen_neighbor[1] + current_cell[1]) // 2] = 1\n",
    "            stack.append(chosen_neighbor)\n",
    "        else:\n",
    "            stack.pop()\n",
    "\n",
    "    return maze, start_cell, end_cell\n",
    "\n",
    "maze, start_point, end_point = generate_maze()\n",
    "\n",
    "# Player position\n",
    "player_row, player_col = start_point"
   ]
  },
  {
   "cell_type": "markdown",
   "metadata": {},
   "source": [
    "Game"
   ]
  },
  {
   "cell_type": "code",
   "execution_count": 8,
   "metadata": {},
   "outputs": [
    {
     "name": "stdout",
     "output_type": "stream",
     "text": [
      "Error: could not convert string to float: 'Initializing I2C devices...\\r\\n'\n",
      "Error: could not convert string to float: 'Testing device connections...\\r\\n'\n",
      "Error: could not convert string to float: 'MPU6050 connection successful\\r\\n'\n",
      "Error: could not convert string to float: 'Initializing DMP...\\r\\n'\n",
      "Error: could not convert string to float: '>*......>......-4372.00000'\n",
      "Error: could not convert string to float: '\\n'\n",
      "Error: could not convert string to float: 'Enabling DMP...\\r\\n'\n",
      "Congratulations! You reached the end of the maze.\n"
     ]
    },
    {
     "ename": "SystemExit",
     "evalue": "",
     "output_type": "error",
     "traceback": [
      "An exception has occurred, use %tb to see the full traceback.\n",
      "\u001b[1;31mSystemExit\u001b[0m\n"
     ]
    },
    {
     "name": "stderr",
     "output_type": "stream",
     "text": [
      "C:\\ProgramData\\anaconda3\\Lib\\site-packages\\IPython\\core\\interactiveshell.py:3513: UserWarning: To exit: use 'exit', 'quit', or Ctrl-D.\n",
      "  warn(\"To exit: use 'exit', 'quit', or Ctrl-D.\", stacklevel=1)\n"
     ]
    }
   ],
   "source": [
    "# Initialize the screen\n",
    "screen = pygame.display.set_mode((WIDTH, HEIGHT))\n",
    "pygame.display.set_caption(\"Maze Game\")\n",
    "\n",
    "# Game loop\n",
    "while True:\n",
    "    for event in pygame.event.get():\n",
    "        if event.type == pygame.QUIT:\n",
    "            pygame.quit()\n",
    "            sys.exit()\n",
    "    try:\n",
    "    # Read data from MPU-6050 sensor through serial communication\n",
    "        toRad = np.pi / 180.0\n",
    "        toDeg = 1 / toRad\n",
    "        while arduinoData.inWaiting() == 0:\n",
    "            pass\n",
    "        data_packet = arduinoData.readline()\n",
    "        data_packet = str(data_packet, 'utf-8')\n",
    "        split_packet = data_packet.split(\",\")\n",
    "        roll = float(split_packet[0]) * toRad * toDeg\n",
    "        pitch = float(split_packet[1]) * toRad * toDeg\n",
    "        yaw = float(split_packet[2]) * toRad * toDeg\n",
    "        \n",
    "    # Adjust player position based on MPU-6050 data\n",
    "    \n",
    "        if pitch>20 and player_col > 0 and maze[player_row][player_col - 1] == 1:\n",
    "            player_col -= 1\n",
    "        if pitch<-20 and player_col < COLS - 1 and maze[player_row][player_col + 1] == 1:\n",
    "            player_col += 1\n",
    "        if roll<-20 and player_row > 0 and maze[player_row - 1][player_col] == 1:\n",
    "            player_row -= 1\n",
    "        if roll>20 and player_row < ROWS - 1 and maze[player_row + 1][player_col] == 1:\n",
    "            player_row += 1\n",
    "        \n",
    "    \n",
    "        \n",
    "    except Exception as e:\n",
    "        print(\"Error:\", e)\n",
    "\n",
    "    # Draw maze\n",
    "    screen.fill(WHITE)\n",
    "    for row in range(ROWS):\n",
    "        for col in range(COLS):\n",
    "            if maze[row][col] == 1:\n",
    "                pygame.draw.rect(screen, MEDIUM_BLUE, (col * CELL_SIZE, row * CELL_SIZE, CELL_SIZE, CELL_SIZE))\n",
    "    for row in range(ROWS):\n",
    "        for col in range(COLS):\n",
    "            if (row, col) == start_point:\n",
    "                pygame.draw.rect(screen, LIGHT_BLUE, (col * CELL_SIZE, row * CELL_SIZE, CELL_SIZE, CELL_SIZE))\n",
    "            elif (row, col) == end_point:\n",
    "                pygame.draw.rect(screen, LIGHT_BLUE, (col * CELL_SIZE, row * CELL_SIZE, CELL_SIZE, CELL_SIZE))\n",
    "\n",
    "    # Draw player\n",
    "    pygame.draw.circle(screen, GRAY, (player_col * CELL_SIZE + CELL_SIZE // 2, player_row * CELL_SIZE + CELL_SIZE // 2), CELL_SIZE // 3)\n",
    "    \n",
    "    # Check if the player reaches the end point\n",
    "    if (player_row, player_col) == end_point:\n",
    "        pygame.display.flip()\n",
    "        print(\"Congratulations! You reached the end of the maze.\")\n",
    "        time.sleep(5)\n",
    "        pygame.quit()\n",
    "        sys.exit()\n",
    "    pygame.display.flip()\n",
    "    clock.tick(FPS)"
   ]
  },
  {
   "cell_type": "code",
   "execution_count": null,
   "metadata": {},
   "outputs": [],
   "source": []
  },
  {
   "cell_type": "code",
   "execution_count": null,
   "metadata": {},
   "outputs": [],
   "source": []
  },
  {
   "cell_type": "code",
   "execution_count": null,
   "metadata": {},
   "outputs": [],
   "source": []
  }
 ],
 "metadata": {
  "kernelspec": {
   "display_name": "Python 3 (ipykernel)",
   "language": "python",
   "name": "python3"
  },
  "language_info": {
   "codemirror_mode": {
    "name": "ipython",
    "version": 3
   },
   "file_extension": ".py",
   "mimetype": "text/x-python",
   "name": "python",
   "nbconvert_exporter": "python",
   "pygments_lexer": "ipython3",
   "version": "3.11.4"
  }
 },
 "nbformat": 4,
 "nbformat_minor": 2
}
